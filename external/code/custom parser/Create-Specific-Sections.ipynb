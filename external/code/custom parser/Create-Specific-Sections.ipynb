{
 "cells": [
  {
   "attachments": {},
   "cell_type": "markdown",
   "metadata": {},
   "source": [
    "# Python Latex to PreText Parser"
   ]
  },
  {
   "attachments": {},
   "cell_type": "markdown",
   "metadata": {},
   "source": [
    "## Import Libraries"
   ]
  },
  {
   "cell_type": "code",
   "execution_count": 1,
   "metadata": {},
   "outputs": [],
   "source": [
    "import latex_to_pretext_parsing_tools as ltp\n",
    "import re # regular expressions\n",
    "from os import walk # directory listings\n",
    "from tkinter import Tk     # from tkinter import Tk for Python 3.x\n",
    "from tkinter.filedialog import askopenfilename"
   ]
  },
  {
   "attachments": {},
   "cell_type": "markdown",
   "metadata": {},
   "source": [
    "## Create Specific Sections"
   ]
  },
  {
   "cell_type": "code",
   "execution_count": 8,
   "metadata": {},
   "outputs": [],
   "source": [
    "chapters = [1, 2]\n",
    "sections = [[2, 4], [1, 2, 3]]\n",
    "all_chpts_and_sects = False\n",
    "\n",
    "xml_main_o = '../../de-book-main-all.xml'\n",
    "xml_main_n = '../../de-book-main.xml'\n",
    "\n",
    "# read xml main\n",
    "xml_main_fid = open(xml_main_o,\"r\")\n",
    "xml_main_lines = xml_main_fid.readlines()\n",
    "xml_main_fid.close()\n",
    "\n",
    "new_xml_main_lines = []\n",
    "\n",
    "if all_chpts_and_sects:\n",
    "    \n",
    "    new_xml_main_lines = xml_main_lines\n",
    "    \n",
    "else:\n",
    "    \n",
    "    chpt_num = 0\n",
    "    sect_num = 0\n",
    "\n",
    "    for line in xml_main_lines:\n",
    "\n",
    "        # found a chapter header\n",
    "        if re.search(r'\\<chapter xml\\:id',line) != None:\n",
    "\n",
    "            chpt_num += 1\n",
    "            new_xml_main_lines.append(f\"\\t\\t<!-- CHAPTER {chpt_num} -->\\n\")\n",
    "            \n",
    "        # found a section\n",
    "        if re.search(r'\\<xi\\:include href=\"./chapter-',line) != None:\n",
    "\n",
    "            sect_num += 1\n",
    "            new_xml_main_lines.append(f\"\\t\\t\\t<!-- SECTION {sect_num} -->\\n\")\n",
    "            \n",
    "            if chpt_num in chapters and sect_num in sections[chapters.index(chpt_num)]:\n",
    "\n",
    "                new_xml_main_lines.append(line)\n",
    "\n",
    "            else:\n",
    "\n",
    "                new_xml_main_lines.append(f\"\\t\\t\\t<!-- {line[0:-1]} -->\\n\")\n",
    "        \n",
    "        else:\n",
    "            new_xml_main_lines.append(line)\n",
    "        \n",
    "        # found a chapter footer\n",
    "        if re.search(r'\\</chapter\\>',line) != None:\n",
    "\n",
    "            sect_num = 0\n",
    "\n",
    "# save xml main\n",
    "xml_main_fid = open(xml_main_n,\"w+\")\n",
    "xml_main_fid.writelines(new_xml_main_lines)\n",
    "xml_main_fid.close()   \n"
   ]
  }
 ],
 "metadata": {
  "kernelspec": {
   "display_name": "Python 3",
   "language": "python",
   "name": "python3"
  },
  "language_info": {
   "codemirror_mode": {
    "name": "ipython",
    "version": 3
   },
   "file_extension": ".py",
   "mimetype": "text/x-python",
   "name": "python",
   "nbconvert_exporter": "python",
   "pygments_lexer": "ipython3",
   "version": "3.11.2"
  }
 },
 "nbformat": 4,
 "nbformat_minor": 4
}
