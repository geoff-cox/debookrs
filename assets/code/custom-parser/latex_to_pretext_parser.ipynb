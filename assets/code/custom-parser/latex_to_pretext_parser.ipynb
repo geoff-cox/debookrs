{
 "cells": [
  {
   "cell_type": "markdown",
   "metadata": {},
   "source": [
    "# Python Latex to PreText Parser"
   ]
  },
  {
   "cell_type": "markdown",
   "metadata": {},
   "source": [
    "## Import Libraries"
   ]
  },
  {
   "cell_type": "code",
   "execution_count": 1,
   "metadata": {},
   "outputs": [],
   "source": [
    "import re # regular expressions\n",
    "from os import walk # directory listings\n",
    "from tkinter import Tk     # from tkinter import Tk for Python 3.x\n",
    "from tkinter.filedialog import askopenfilename"
   ]
  },
  {
   "cell_type": "markdown",
   "metadata": {},
   "source": [
    "Create Specific Sections"
   ]
  },
  {
   "cell_type": "code",
   "execution_count": 3,
   "metadata": {
    "scrolled": false
   },
   "outputs": [],
   "source": [
    "chapters = [4,10]\n",
    "sections = [[7],[4]]\n",
    "all_chpts_and_sects = False\n",
    "\n",
    "xml_main_o = '../de-book-main-all.xml'\n",
    "xml_main_n = '../de-book-main.xml'\n",
    "\n",
    "# read xml main\n",
    "xml_main_fid = open(xml_main_o,\"r\")\n",
    "xml_main_lines = xml_main_fid.readlines()\n",
    "xml_main_fid.close()\n",
    "\n",
    "new_xml_main_lines = []\n",
    "\n",
    "if all_chpts_and_sects:\n",
    "    \n",
    "    new_xml_main_lines = xml_main_lines\n",
    "    \n",
    "else:\n",
    "    \n",
    "    chpt_num = 0\n",
    "    sect_num = 0\n",
    "\n",
    "    in_comment = False\n",
    "\n",
    "    for line in xml_main_lines:\n",
    "        # found a chapter header\n",
    "        if re.search(r'\\<chapter xml\\:id',line) != None:\n",
    "            chpt_num += 1\n",
    "            new_xml_main_lines.append('\\t\\t\\t<!-- CHAPTER ' + str(chpt_num) + ' -->\\n')\n",
    "            if chpt_num not in chapters:\n",
    "                new_xml_main_lines.append('\\t\\t\\t<!--\\n')\n",
    "                in_comment = True\n",
    "\n",
    "        # found a section\n",
    "        if re.search(r'\\<xi\\:include href=\"./chapter-',line) != None:\n",
    "            sect_num += 1\n",
    "            if chpt_num in chapters:\n",
    "                if sect_num in sections[chapters.index(chpt_num)] and in_comment:\n",
    "                    new_xml_main_lines.append('\\t\\t\\t-->\\n')\n",
    "                    in_comment = False\n",
    "                elif sect_num not in sections[chapters.index(chpt_num)] and not in_comment:\n",
    "                    new_xml_main_lines.append('\\t\\t\\t<!--\\n')\n",
    "                    in_comment = True\n",
    "\n",
    "        # found a chapter footer\n",
    "        if re.search(r'\\</chapter\\>',line) != None:\n",
    "            sect_num = 0\n",
    "            if in_comment:\n",
    "                if chpt_num in chapters:\n",
    "                    new_xml_main_lines.append('\\t\\t\\t-->\\n') \n",
    "                    new_xml_main_lines.append(line)\n",
    "                    in_comment = False\n",
    "                else:\n",
    "                    new_xml_main_lines.append(line)\n",
    "                    new_xml_main_lines.append('\\t\\t\\t-->\\n')\n",
    "                    in_comment = False\n",
    "            else:\n",
    "                new_xml_main_lines.append(line)\n",
    "        else:\n",
    "            new_xml_main_lines.append(line)\n",
    "\n",
    "# save xml main\n",
    "xml_main_fid = open(xml_main_n,\"w+\")\n",
    "xml_main_fid.writelines(new_xml_main_lines)\n",
    "xml_main_fid.close()   "
   ]
  },
  {
   "cell_type": "code",
   "execution_count": null,
   "metadata": {},
   "outputs": [],
   "source": []
  },
  {
   "cell_type": "code",
   "execution_count": null,
   "metadata": {},
   "outputs": [],
   "source": []
  }
 ],
 "metadata": {
  "kernelspec": {
   "display_name": "Python 3",
   "language": "python",
   "name": "python3"
  },
  "language_info": {
   "codemirror_mode": {
    "name": "ipython",
    "version": 3
   },
   "file_extension": ".py",
   "mimetype": "text/x-python",
   "name": "python",
   "nbconvert_exporter": "python",
   "pygments_lexer": "ipython3",
   "version": "3.8.3"
  }
 },
 "nbformat": 4,
 "nbformat_minor": 4
}
