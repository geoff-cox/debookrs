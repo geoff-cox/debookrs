{
 "cells": [
  {
   "cell_type": "markdown",
   "metadata": {},
   "source": [
    "# Python Latex to PreText Parser"
   ]
  },
  {
   "cell_type": "markdown",
   "metadata": {},
   "source": [
    "## Import Libraries"
   ]
  },
  {
   "cell_type": "code",
   "execution_count": 2,
   "metadata": {},
   "outputs": [],
   "source": [
    "import re # regular expressions\n",
    "from os import walk # directory listings\n",
    "from tkinter import Tk     # from tkinter import Tk for Python 3.x\n",
    "from tkinter.filedialog import askopenfilename"
   ]
  },
  {
   "cell_type": "markdown",
   "metadata": {},
   "source": [
    "## Converting Sage Cell Button"
   ]
  },
  {
   "cell_type": "code",
   "execution_count": null,
   "metadata": {
    "scrolled": false
   },
   "outputs": [
    {
     "name": "stdout",
     "output_type": "stream",
     "text": [
      "FUCK YOU!\n",
      "['main-7-5.html', 'quick-ref-basics-2.html', 'main-7-4-5-2.html', 'main-5-4-3-4.html', 'main-5-5-4.html', 'main-6-3.html', 'main-5-3-6-4-4.html', 'main-5-6-2.html', 'main-5-3-6-3-4.html', 'main-5-2-3-2-1-1-1.html', 'main-5-2-6-3.html', 'main-6-2.html', 'quick-ref-solns-2-a4.html', 'main-5-2-5-4.html', 'main-5-4-2.html', 'main-6-2-3.html', 'main-5-5-4-a4.html', 'main-5-2-3.html', 'frontmatter.html', 'main-5-3-3-3.html', 'main-6-2-7.html', 'main-6-2-6-3.html', 'main-5-3-6-4-2.html', 'main-6-2-5-3.html', 'main-6-2-5-5.html', 'main-5-4-5-4-3.html', 'main-7-1-3-2.html', 'interactive-drag-ic.html', 'quick-ref-sov-2-a4.html', 'main-6-2-4-4.html', '.mapping.json', 'main-5-3-6-2-4.html', 'main-5-3-5-3-4.html', 'main-5-3-2-1-1-1.html', 'main-6-2-4-3.html', 'main-5-3.html', 'main-6-5.html', 'main-7-2-2.html', 'main-5.html', 'main-5-3-5-3-2.html', 'main-5-4-4-3.html', 'main-6.html', 'main-5-2-6-5-4.html', 'quick-ref-sov.html', 'main-7-1.html', 'main-5-3-5-2.html', 'main-6-3-8.html', 'main-5-2-6-5.html', 'main-5-4-5-3.html', 'rqs-.html', 'main-5-4-2-1-1-1.html', 'main-5-2-5-5.html', 'main-6-5-4.html', 'main-5-2-6-2-4-letter.html', 'quick-ref-sov-2-letter.html', 'ws--a4.html', 'main-5-2-5.html', 'main-7-1-2-3.html', 'main-5-6.html', 'main-5-4-5-2-3.html', 'main-6-4.html', 'main-6-2-3-3.html', 'main-7-4-5-2-letter.html', 'main-5-4-5-4-4.html', 'main-7-2-3.html', 'main-6-2-5-3-3.html', 'main-7-4-5-2-a4.html', 'interactive-drag-ic-if.html', 'main-5-3-4-3.html', 'main-5-3-6-2.html', 'main-7-4.html', 'main-7-1-5.html', 'main-5-3-4-4.html', 'main-5-3-5-5-4.html', 'main-5-4-3-6.html', 'main-5-3-6-4.html', 'main-5-3-5-4-4.html', 'main-5-2-6-2-4-a4.html', 'main-5-4-5-2-2.html', 'main-5-2-6.html', 'main-5-3-4-6.html', 'quick-ref-solns.html', 'main-7-2.html', 'calculus-review-product-rule.html', 'main-5-4-5-3-4.html', 'main-6-2-5-3-4.html', 'main-6-2-6-2.html', 'main-5-4-6.html', 'main-7-1-2-2.html', 'main-5-4-3-2-2.html', 'quick-ref-solns-2-letter.html', 'main-5-3-3-6.html', 'main-7.html', 'main.html', 'main-7-3-2.html', 'main-6-2-3-4.html', 'main-5-4-5-5.html', 'main-7-1-2.html', 'main-5-3-6-4-3.html', 'lunr-pretext-search-index.js', 'main-5-4-5-3-2.html', 'main-5-3-4.html', 'main-5-4-2-4.html', 'main-6-5-4-a4.html', 'main-5-2-3-4.html', 'quick-ref-sov-2.html', 'main-6-2-6.html', 'main-5-3-5-2-1-1-1.html', 'main-5-3-4-7.html', 'main-5-2-6-4-3.html', 'main-5-4-3.html', 'main-5-3-3-2-1-1-1.html', 'main-5-3-7.html', 'main-5-3-5-3.html', 'main-5-2-4-4.html', 'main-7-4-2.html', 'main-5-2-6-4.html', 'main-5-4-5-4-2.html', 'main-6-3-5.html', 'main-5-2-6-2.html', 'main-5-4-3-3.html', 'main-5-3-4-2-1-1-1.html', 'main-6-3-9.html', 'main-5-4-5-2-4-letter.html', 'main-5-2-3-3-2-1-1.html', 'main-5-3-4-a4.html', 'main-5-3-6-5.html', 'main-5-2-5-3.html', 'main-6-2-8.html', 'main-6-2-5-3-2.html', 'main-5-2-6-4-2.html', 'main-5-3-6-2-4-letter.html', 'main-5-3-6-3.html', 'main-5-4-4-4.html', 'main-5-4-5-4.html', 'main-7-1-5-2.html', 'main-7-3-3.html', 'main-5-2-4-2-1-1-1.html', 'main-6-2-5.html', 'main-5-3-3-3-2-1-1.html', 'main-6-2-6-4.html', 'main-7-1-3.html', 'index.html', 'main-7-3.html', 'main-5-4-2-3.html', 'main-5-3-6-3-3.html', 'main-5-3-4-5.html', 'main-5-3-5-2-4-letter.html', 'main-6-2-5-2.html', 'main-6-2-4.html', 'main-5-4-5-3-3.html', 'main-5-2-6-5-3.html', 'main-5-4-3-2-1-1-1.html', 'main-7-4-5.html', 'preface.html', 'main-5-4-5-2-4-a4.html', 'main-5-3-5-2-3.html', 'main-5-2-3-3.html', 'main-5-2-4-3.html', 'main-5-2.html', 'main-5-5-4-letter.html', 'main-5-3-5-2-4.html', 'main-6-3-6.html', 'main-5-2-4.html', 'main-5-3-5-2-4-a4.html', 'main-5-4-3-5.html', 'main-5-4.html', 'main-5-3-6.html', 'main-5-3-3-4-2-2-1.html', 'main-5-2-2-1-1-1.html', 'main-6-5-4-letter.html', 'main-5-5.html', 'main-7-1-3-3.html', 'main-6-3-3.html', 'main-6-3-4.html', 'quick-ref-solns-2.html', 'main-5-3-5-5.html', 'main-5-3-3.html', 'main-5-3-5.html', 'quick-ref-basics-2-letter.html', 'main-5-2-5-2-1-1-1.html', 'main-5-3-6-2-4-a4.html', 'quick-ref-basics-2-a4.html', 'main-5-3-6-3-2.html', 'main-5-3-5-5-3.html', 'main-5-2-6-2-4.html', 'main-5-3-5-4-2.html', 'main-5-4-4.html', 'main-6-2-5-4.html', 'ws--letter.html', 'main-5-4-3-2-3.html', 'main-5-3-3-5.html', 'main-5-4-5.html', 'main-5-2-6-4-4.html', 'main-5-3-5-4-3.html', 'main-5-2-3-4-2-2-1.html', 'main-5-4-5-2.html', 'main-7-1-4.html', 'main-5-3-5-3-3.html', 'main-5-4-3-2.html', 'main-5-3-3-4.html', 'main-6-3-7.html', 'main-5-4-5-2-4.html', 'quick-ref-basics.html', 'main-5-3-4-letter.html', 'main-5-3-5-4.html', 'main-7-5-2.html', 'ws-.html']\n"
     ]
    }
   ],
   "source": [
    "html_root = '../../../output/focus/'\n",
    "\n",
    "# get files from html_root\n",
    "filenames = next(walk(html_root), (None, None, []))[2]  # [] if no file\n",
    "\n",
    "print(\"FUCK YOU!\")\n",
    "print(filenames)\n",
    "\n",
    "# get chapter content\n",
    "html_files = []\n",
    "for file in filenames:\n",
    "    print(file)\n",
    "    if re.search('.html$',file) != None:\n",
    "        html_files.append(file)\n",
    "\n",
    "for html_file in html_files:\n",
    "    new_html_lines = []\n",
    "    print(html_file)\n",
    "    html_fid = open(html_root + html_file,\"r\")\n",
    "    html_lines = html_fid.readlines()\n",
    "    html_fid.close()\n",
    "    \n",
    "    write_file = False\n",
    "    for line in html_lines:\n",
    "        #print(line)\n",
    "        if re.search(r'Evaluate \\(Octave\\)',line) != None:\n",
    "            write_file = True\n",
    "            #print('HERE')\n",
    "            new_html_lines.append(re.sub(r'Evaluate \\(Octave\\)','Run MATLAB',line))\n",
    "        else:\n",
    "            new_html_lines.append(line)\n",
    "            \n",
    "    if write_file:\n",
    "        print('Updating: ' + html_file)\n",
    "        html_fid = open(html_root + html_file,\"w+\")\n",
    "        html_fid.writelines(new_html_lines)\n",
    "        html_fid.close()\n",
    "   "
   ]
  }
 ],
 "metadata": {
  "kernelspec": {
   "display_name": "Python 3",
   "language": "python",
   "name": "python3"
  },
  "language_info": {
   "codemirror_mode": {
    "name": "ipython",
    "version": 3
   },
   "file_extension": ".py",
   "mimetype": "text/x-python",
   "name": "python",
   "nbconvert_exporter": "python",
   "pygments_lexer": "ipython3",
   "version": "3.13.0"
  }
 },
 "nbformat": 4,
 "nbformat_minor": 4
}
